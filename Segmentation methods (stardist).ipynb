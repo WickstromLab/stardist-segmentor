{
 "cells": [
  {
   "cell_type": "code",
   "execution_count": 7,
   "metadata": {},
   "outputs": [],
   "source": [
    "from __future__ import print_function, unicode_literals, absolute_import, division\n",
    "import sys\n",
    "import numpy as np\n",
    "import matplotlib.pyplot as plt\n",
    "\n",
    "from glob import glob\n",
    "from tifffile import imread\n",
    "from csbdeep.utils import Path, normalize\n",
    "from csbdeep.io import save_tiff_imagej_compatible\n",
    "from tqdm import tqdm\n",
    "from stardist import random_label_cmap, _draw_polygons, export_imagej_rois\n",
    "from stardist.models import StarDist2D, StarDist3D\n",
    "\n",
    "import os\n",
    "import cv2\n",
    "import pandas as pd \n",
    "import pathlib\n",
    "\n",
    "from joblib import Parallel, delayed\n",
    "import multiprocessing\n",
    "\n",
    "from skimage.transform import resize\n",
    "from skimage import io   \n",
    "\n",
    "import json"
   ]
  },
  {
   "cell_type": "code",
   "execution_count": 58,
   "metadata": {},
   "outputs": [],
   "source": [
    "model_folder = r'D:\\Mirjam\\3D nuclear seg+quant pipeline tutorials and files\\files\\models\\3Dmodel_organoid(Leah)'\n",
    "directory = r'D:\\Fabien\\test\\CRC13_Dapi-a18-H3K9me23-LaminB'\n",
    "segmentation = '3D'\n",
    "seg_channel = 0 \n",
    "n_tiles = [1,3,3] #2D:[xtiles,ytiles], 3D:[ztiles,xtiles,ytiles]\n",
    "prob = 0.004\n",
    "nms = 0.004"
   ]
  },
  {
   "cell_type": "code",
   "execution_count": 59,
   "metadata": {},
   "outputs": [
    {
     "name": "stdout",
     "output_type": "stream",
     "text": [
      "Loading network weights from 'weights_best.h5'.\n",
      "Loading thresholds from 'thresholds.json'.\n",
      "Using default values: prob_thresh=0.004, nms_thresh=0.004.\n"
     ]
    }
   ],
   "source": [
    "np.random.seed(6)\n",
    "lbl_cmap = random_label_cmap()\n",
    "\n",
    "\n",
    "tresh_set = {\"prob\": prob, \"nms\": nms}\n",
    "\n",
    "with open(model_folder + '\\\\thresholds.json', 'w') as outfile:\n",
    "    json.dump(tresh_set, outfile)  \n",
    "\n",
    "model_folder = pathlib.PurePath(model_folder)\n",
    "\n",
    "if segmentation == '2D':\n",
    "    model = StarDist2D(None, name=model_folder.name, basedir=str(model_folder.parents[0]))\n",
    "if segmentation == '3D':\n",
    "    model = StarDist3D(None, name=model_folder.name, basedir=str(model_folder.parents[0]))\n",
    "    \n",
    "folders = glob(directory + \"/*/\")"
   ]
  },
  {
   "cell_type": "code",
   "execution_count": 44,
   "metadata": {},
   "outputs": [],
   "source": [
    "def compute_folder(folder, segmentation, n_tiles):\n",
    "    \n",
    "    img_folder = folder + subfolder\n",
    "    img_files =  glob(folder + '\\\\' + subfolder + '\\\\*.tif')\n",
    "    \n",
    "    if segmentation == '2D':\n",
    "        output_folder = folder + 'rois\\\\'\n",
    "        if not os.path.isdir(folder + 'rois'):\n",
    "            os.mkdir(output_folder)\n",
    "    \n",
    "    if segmentation == '3D':\n",
    "        output_folder = folder + 'masks\\\\'\n",
    "        if not os.path.isdir(folder + 'masks'):\n",
    "            os.mkdir(output_folder)\n",
    "\n",
    "    for img_file in img_files:\n",
    "        \n",
    "        print(img_file)\n",
    "        \n",
    "        image = imread(img_file) \n",
    "        if segmentation == '2D':\n",
    "            if len(image.shape) == 3:\n",
    "                image = image[seg_channel,::] \n",
    "            \n",
    "            axis_norm = (0,1)   # normalize channels independently\n",
    "            image = normalize(image, 1,99.8, axis=axis_norm)\n",
    "            labels, polygons = model.predict_instances(image)\n",
    "            export_imagej_rois(output_folder + pathlib.PurePath(img_file).name.replace('.tif', '_roi.zip'),\n",
    "                               polygons['coord'], n_tiles=n_tiles)  \n",
    "                           \n",
    "        if segmentation == '3D':\n",
    "            if len(image.shape) == 4:\n",
    "                image = image[seg_channel,::]\n",
    "                \n",
    "            axis_norm = (0,1,2)\n",
    "            labels, details = model.predict_instances(image, n_tiles=n_tiles)\n",
    "            save_tiff_imagej_compatible(output_folder + pathlib.PurePath(img_file).name.replace('.tif', '_mask.tif'), \n",
    "                                        labels.astype(np.int16), axes='ZYX')           \n",
    "            "
   ]
  },
  {
   "cell_type": "code",
   "execution_count": 45,
   "metadata": {},
   "outputs": [
    {
     "name": "stderr",
     "output_type": "stream",
     "text": [
      "\r",
      "  0%|                                                                                            | 0/9 [00:00<?, ?it/s]"
     ]
    },
    {
     "name": "stdout",
     "output_type": "stream",
     "text": [
      "D:\\Fabien\\test\\CRC13_Dapi-a18-H3K9me23-LaminB\\AKPS\\AKPS-Dapi-a18-H3K9me23-LaminB-1-2.tif\n"
     ]
    },
    {
     "name": "stderr",
     "output_type": "stream",
     "text": [
      "100%|████████████████████████████████████████████████████████████████████████████████████| 9/9 [00:01<00:00,  4.98it/s]\n",
      "  0%|                                                                                            | 0/9 [00:00<?, ?it/s]"
     ]
    },
    {
     "name": "stdout",
     "output_type": "stream",
     "text": [
      "D:\\Fabien\\test\\CRC13_Dapi-a18-H3K9me23-LaminB\\AKPS\\AKPS-Dapi-a18-H3K9me23-LaminB-1.tif\n"
     ]
    },
    {
     "name": "stderr",
     "output_type": "stream",
     "text": [
      "100%|████████████████████████████████████████████████████████████████████████████████████| 9/9 [00:01<00:00,  5.10it/s]\n",
      "  0%|                                                                                            | 0/9 [00:00<?, ?it/s]"
     ]
    },
    {
     "name": "stdout",
     "output_type": "stream",
     "text": [
      "D:\\Fabien\\test\\CRC13_Dapi-a18-H3K9me23-LaminB\\AKPS\\AKPS-Dapi-a18-H3K9me23-LaminB-2-2.tif\n"
     ]
    },
    {
     "name": "stderr",
     "output_type": "stream",
     "text": [
      "100%|████████████████████████████████████████████████████████████████████████████████████| 9/9 [00:01<00:00,  5.11it/s]\n",
      "  0%|                                                                                            | 0/9 [00:00<?, ?it/s]"
     ]
    },
    {
     "name": "stdout",
     "output_type": "stream",
     "text": [
      "D:\\Fabien\\test\\CRC13_Dapi-a18-H3K9me23-LaminB\\AKPS\\AKPS-Dapi-a18-H3K9me23-LaminB-2.tif\n"
     ]
    },
    {
     "name": "stderr",
     "output_type": "stream",
     "text": [
      "100%|████████████████████████████████████████████████████████████████████████████████████| 9/9 [00:01<00:00,  5.05it/s]\n",
      "  0%|                                                                                            | 0/9 [00:00<?, ?it/s]"
     ]
    },
    {
     "name": "stdout",
     "output_type": "stream",
     "text": [
      "D:\\Fabien\\test\\CRC13_Dapi-a18-H3K9me23-LaminB\\AKPS\\AKPS-Dapi-a18-H3K9me23-LaminB-3-2.tif\n"
     ]
    },
    {
     "name": "stderr",
     "output_type": "stream",
     "text": [
      "100%|████████████████████████████████████████████████████████████████████████████████████| 9/9 [00:01<00:00,  5.00it/s]\n",
      " 11%|█████████▎                                                                          | 1/9 [00:00<00:01,  4.67it/s]"
     ]
    },
    {
     "name": "stdout",
     "output_type": "stream",
     "text": [
      "D:\\Fabien\\test\\CRC13_Dapi-a18-H3K9me23-LaminB\\AKPS\\AKPS-Dapi-a18-H3K9me23-LaminB-3.tif\n"
     ]
    },
    {
     "name": "stderr",
     "output_type": "stream",
     "text": [
      "100%|████████████████████████████████████████████████████████████████████████████████████| 9/9 [00:01<00:00,  5.02it/s]\n",
      "  0%|                                                                                            | 0/9 [00:00<?, ?it/s]"
     ]
    },
    {
     "name": "stdout",
     "output_type": "stream",
     "text": [
      "D:\\Fabien\\test\\CRC13_Dapi-a18-H3K9me23-LaminB\\APC\\APC-Dapi-a18-H3K9me23-LaminB-1-2.tif\n"
     ]
    },
    {
     "name": "stderr",
     "output_type": "stream",
     "text": [
      "100%|████████████████████████████████████████████████████████████████████████████████████| 9/9 [00:01<00:00,  5.04it/s]\n",
      "  0%|                                                                                            | 0/9 [00:00<?, ?it/s]"
     ]
    },
    {
     "name": "stdout",
     "output_type": "stream",
     "text": [
      "D:\\Fabien\\test\\CRC13_Dapi-a18-H3K9me23-LaminB\\APC\\APC-Dapi-a18-H3K9me23-LaminB-1.tif\n"
     ]
    },
    {
     "name": "stderr",
     "output_type": "stream",
     "text": [
      "100%|████████████████████████████████████████████████████████████████████████████████████| 9/9 [00:01<00:00,  5.06it/s]\n",
      "  0%|                                                                                            | 0/9 [00:00<?, ?it/s]"
     ]
    },
    {
     "name": "stdout",
     "output_type": "stream",
     "text": [
      "D:\\Fabien\\test\\CRC13_Dapi-a18-H3K9me23-LaminB\\APC\\APC-Dapi-a18-H3K9me23-LaminB-2-2.tif\n"
     ]
    },
    {
     "name": "stderr",
     "output_type": "stream",
     "text": [
      "100%|████████████████████████████████████████████████████████████████████████████████████| 9/9 [00:01<00:00,  5.05it/s]\n",
      "  0%|                                                                                            | 0/9 [00:00<?, ?it/s]"
     ]
    },
    {
     "name": "stdout",
     "output_type": "stream",
     "text": [
      "D:\\Fabien\\test\\CRC13_Dapi-a18-H3K9me23-LaminB\\APC\\APC-Dapi-a18-H3K9me23-LaminB-2.tif\n"
     ]
    },
    {
     "name": "stderr",
     "output_type": "stream",
     "text": [
      "100%|████████████████████████████████████████████████████████████████████████████████████| 9/9 [00:01<00:00,  5.08it/s]\n",
      "  0%|                                                                                            | 0/9 [00:00<?, ?it/s]"
     ]
    },
    {
     "name": "stdout",
     "output_type": "stream",
     "text": [
      "D:\\Fabien\\test\\CRC13_Dapi-a18-H3K9me23-LaminB\\APC\\APC-Dapi-a18-H3K9me23-LaminB-3-2.tif\n"
     ]
    },
    {
     "name": "stderr",
     "output_type": "stream",
     "text": [
      "100%|████████████████████████████████████████████████████████████████████████████████████| 9/9 [00:01<00:00,  4.93it/s]\n",
      "  0%|                                                                                            | 0/9 [00:00<?, ?it/s]"
     ]
    },
    {
     "name": "stdout",
     "output_type": "stream",
     "text": [
      "D:\\Fabien\\test\\CRC13_Dapi-a18-H3K9me23-LaminB\\APC\\APC-Dapi-a18-H3K9me23-LaminB-3.tif\n"
     ]
    },
    {
     "name": "stderr",
     "output_type": "stream",
     "text": [
      "100%|████████████████████████████████████████████████████████████████████████████████████| 9/9 [00:01<00:00,  5.05it/s]\n",
      "  0%|                                                                                            | 0/9 [00:00<?, ?it/s]"
     ]
    },
    {
     "name": "stdout",
     "output_type": "stream",
     "text": [
      "D:\\Fabien\\test\\CRC13_Dapi-a18-H3K9me23-LaminB\\APC\\APC-Dapi-a18-H3K9me23-LaminB-4-2.tif\n"
     ]
    },
    {
     "name": "stderr",
     "output_type": "stream",
     "text": [
      "100%|████████████████████████████████████████████████████████████████████████████████████| 9/9 [00:01<00:00,  5.07it/s]\n",
      "  0%|                                                                                            | 0/9 [00:00<?, ?it/s]"
     ]
    },
    {
     "name": "stdout",
     "output_type": "stream",
     "text": [
      "D:\\Fabien\\test\\CRC13_Dapi-a18-H3K9me23-LaminB\\APC\\APC-Dapi-a18-H3K9me23-LaminB-4.tif\n"
     ]
    },
    {
     "name": "stderr",
     "output_type": "stream",
     "text": [
      "100%|████████████████████████████████████████████████████████████████████████████████████| 9/9 [00:01<00:00,  5.07it/s]\n",
      "  0%|                                                                                            | 0/9 [00:00<?, ?it/s]"
     ]
    },
    {
     "name": "stdout",
     "output_type": "stream",
     "text": [
      "D:\\Fabien\\test\\CRC13_Dapi-a18-H3K9me23-LaminB\\KRAS\\KRAS-Dapi-a18-H3K9me23-LaminB-1-2.tif\n"
     ]
    },
    {
     "name": "stderr",
     "output_type": "stream",
     "text": [
      "100%|████████████████████████████████████████████████████████████████████████████████████| 9/9 [00:01<00:00,  5.00it/s]\n",
      "  0%|                                                                                            | 0/9 [00:00<?, ?it/s]"
     ]
    },
    {
     "name": "stdout",
     "output_type": "stream",
     "text": [
      "D:\\Fabien\\test\\CRC13_Dapi-a18-H3K9me23-LaminB\\KRAS\\KRAS-Dapi-a18-H3K9me23-LaminB-1.tif\n"
     ]
    },
    {
     "name": "stderr",
     "output_type": "stream",
     "text": [
      "100%|████████████████████████████████████████████████████████████████████████████████████| 9/9 [00:01<00:00,  4.94it/s]\n",
      "  0%|                                                                                            | 0/9 [00:00<?, ?it/s]"
     ]
    },
    {
     "name": "stdout",
     "output_type": "stream",
     "text": [
      "D:\\Fabien\\test\\CRC13_Dapi-a18-H3K9me23-LaminB\\KRAS\\KRAS-Dapi-a18-H3K9me23-LaminB-2-2.tif\n"
     ]
    },
    {
     "name": "stderr",
     "output_type": "stream",
     "text": [
      "100%|████████████████████████████████████████████████████████████████████████████████████| 9/9 [00:01<00:00,  5.06it/s]\n",
      "  0%|                                                                                            | 0/9 [00:00<?, ?it/s]"
     ]
    },
    {
     "name": "stdout",
     "output_type": "stream",
     "text": [
      "D:\\Fabien\\test\\CRC13_Dapi-a18-H3K9me23-LaminB\\KRAS\\KRAS-Dapi-a18-H3K9me23-LaminB-2.tif\n"
     ]
    },
    {
     "name": "stderr",
     "output_type": "stream",
     "text": [
      "100%|████████████████████████████████████████████████████████████████████████████████████| 9/9 [00:01<00:00,  5.06it/s]\n",
      "  0%|                                                                                            | 0/9 [00:00<?, ?it/s]"
     ]
    },
    {
     "name": "stdout",
     "output_type": "stream",
     "text": [
      "D:\\Fabien\\test\\CRC13_Dapi-a18-H3K9me23-LaminB\\KRAS\\KRAS-Dapi-a18-H3K9me23-LaminB-3.tif\n"
     ]
    },
    {
     "name": "stderr",
     "output_type": "stream",
     "text": [
      "100%|████████████████████████████████████████████████████████████████████████████████████| 9/9 [00:01<00:00,  5.00it/s]\n",
      " 11%|█████████▎                                                                          | 1/9 [00:00<00:01,  4.90it/s]"
     ]
    },
    {
     "name": "stdout",
     "output_type": "stream",
     "text": [
      "D:\\Fabien\\test\\CRC13_Dapi-a18-H3K9me23-LaminB\\KRAS\\KRAS-Dapi-a18-H3K9me23-LaminB-4.tif\n"
     ]
    },
    {
     "name": "stderr",
     "output_type": "stream",
     "text": [
      "100%|████████████████████████████████████████████████████████████████████████████████████| 9/9 [00:01<00:00,  4.93it/s]\n",
      " 22%|██████████████████▋                                                                 | 2/9 [00:00<00:00, 15.24it/s]"
     ]
    },
    {
     "name": "stdout",
     "output_type": "stream",
     "text": [
      "D:\\Fabien\\test\\CRC13_Dapi-a18-H3K9me23-LaminB\\TP53\\TP53-Dapi-a18-H3K9me23-LaminB-1-2.tif\n"
     ]
    },
    {
     "name": "stderr",
     "output_type": "stream",
     "text": [
      "100%|████████████████████████████████████████████████████████████████████████████████████| 9/9 [00:00<00:00, 15.89it/s]\n",
      "  0%|                                                                                            | 0/9 [00:00<?, ?it/s]"
     ]
    },
    {
     "name": "stdout",
     "output_type": "stream",
     "text": [
      "D:\\Fabien\\test\\CRC13_Dapi-a18-H3K9me23-LaminB\\TP53\\TP53-Dapi-a18-H3K9me23-LaminB-1.tif\n"
     ]
    },
    {
     "name": "stderr",
     "output_type": "stream",
     "text": [
      "100%|████████████████████████████████████████████████████████████████████████████████████| 9/9 [00:01<00:00,  4.88it/s]\n",
      " 11%|█████████▎                                                                          | 1/9 [00:00<00:01,  4.71it/s]"
     ]
    },
    {
     "name": "stdout",
     "output_type": "stream",
     "text": [
      "D:\\Fabien\\test\\CRC13_Dapi-a18-H3K9me23-LaminB\\TP53\\TP53-Dapi-a18-H3K9me23-LaminB-2-2.tif\n"
     ]
    },
    {
     "name": "stderr",
     "output_type": "stream",
     "text": [
      "100%|████████████████████████████████████████████████████████████████████████████████████| 9/9 [00:01<00:00,  5.07it/s]\n",
      "  0%|                                                                                            | 0/9 [00:00<?, ?it/s]"
     ]
    },
    {
     "name": "stdout",
     "output_type": "stream",
     "text": [
      "D:\\Fabien\\test\\CRC13_Dapi-a18-H3K9me23-LaminB\\TP53\\TP53-Dapi-a18-H3K9me23-LaminB-2.tif\n"
     ]
    },
    {
     "name": "stderr",
     "output_type": "stream",
     "text": [
      "100%|████████████████████████████████████████████████████████████████████████████████████| 9/9 [00:01<00:00,  5.04it/s]\n",
      "  0%|                                                                                            | 0/9 [00:00<?, ?it/s]"
     ]
    },
    {
     "name": "stdout",
     "output_type": "stream",
     "text": [
      "D:\\Fabien\\test\\CRC13_Dapi-a18-H3K9me23-LaminB\\TP53\\TP53-Dapi-a18-H3K9me23-LaminB-3-2.tif\n"
     ]
    },
    {
     "name": "stderr",
     "output_type": "stream",
     "text": [
      "100%|████████████████████████████████████████████████████████████████████████████████████| 9/9 [00:01<00:00,  4.98it/s]\n",
      "  0%|                                                                                            | 0/9 [00:00<?, ?it/s]"
     ]
    },
    {
     "name": "stdout",
     "output_type": "stream",
     "text": [
      "D:\\Fabien\\test\\CRC13_Dapi-a18-H3K9me23-LaminB\\TP53\\TP53-Dapi-a18-H3K9me23-LaminB-3.tif\n"
     ]
    },
    {
     "name": "stderr",
     "output_type": "stream",
     "text": [
      "100%|████████████████████████████████████████████████████████████████████████████████████| 9/9 [00:01<00:00,  5.08it/s]\n",
      "  0%|                                                                                            | 0/9 [00:00<?, ?it/s]"
     ]
    },
    {
     "name": "stdout",
     "output_type": "stream",
     "text": [
      "D:\\Fabien\\test\\CRC13_Dapi-a18-H3K9me23-LaminB\\WT\\WT-Dapi-a18-H3K9me23-LaminB-1-2.tif\n"
     ]
    },
    {
     "name": "stderr",
     "output_type": "stream",
     "text": [
      "100%|████████████████████████████████████████████████████████████████████████████████████| 9/9 [00:01<00:00,  5.05it/s]\n",
      " 11%|█████████▎                                                                          | 1/9 [00:00<00:01,  4.66it/s]"
     ]
    },
    {
     "name": "stdout",
     "output_type": "stream",
     "text": [
      "D:\\Fabien\\test\\CRC13_Dapi-a18-H3K9me23-LaminB\\WT\\WT-Dapi-a18-H3K9me23-LaminB-1.tif\n"
     ]
    },
    {
     "name": "stderr",
     "output_type": "stream",
     "text": [
      "100%|████████████████████████████████████████████████████████████████████████████████████| 9/9 [00:01<00:00,  4.96it/s]\n",
      "  0%|                                                                                            | 0/9 [00:00<?, ?it/s]"
     ]
    },
    {
     "name": "stdout",
     "output_type": "stream",
     "text": [
      "D:\\Fabien\\test\\CRC13_Dapi-a18-H3K9me23-LaminB\\WT\\WT-Dapi-a18-H3K9me23-LaminB-2-2.tif\n"
     ]
    },
    {
     "name": "stderr",
     "output_type": "stream",
     "text": [
      "100%|████████████████████████████████████████████████████████████████████████████████████| 9/9 [00:01<00:00,  5.10it/s]\n",
      " 11%|█████████▎                                                                          | 1/9 [00:00<00:01,  4.89it/s]"
     ]
    },
    {
     "name": "stdout",
     "output_type": "stream",
     "text": [
      "D:\\Fabien\\test\\CRC13_Dapi-a18-H3K9me23-LaminB\\WT\\WT-Dapi-a18-H3K9me23-LaminB-2.tif\n"
     ]
    },
    {
     "name": "stderr",
     "output_type": "stream",
     "text": [
      "100%|████████████████████████████████████████████████████████████████████████████████████| 9/9 [00:01<00:00,  5.02it/s]\n",
      "  0%|                                                                                            | 0/9 [00:00<?, ?it/s]"
     ]
    },
    {
     "name": "stdout",
     "output_type": "stream",
     "text": [
      "D:\\Fabien\\test\\CRC13_Dapi-a18-H3K9me23-LaminB\\WT\\WT-Dapi-a18-H3K9me23-LaminB-3-2.tif\n"
     ]
    },
    {
     "name": "stderr",
     "output_type": "stream",
     "text": [
      "100%|████████████████████████████████████████████████████████████████████████████████████| 9/9 [00:01<00:00,  5.00it/s]\n",
      "  0%|                                                                                            | 0/9 [00:00<?, ?it/s]"
     ]
    },
    {
     "name": "stdout",
     "output_type": "stream",
     "text": [
      "D:\\Fabien\\test\\CRC13_Dapi-a18-H3K9me23-LaminB\\WT\\WT-Dapi-a18-H3K9me23-LaminB-3.tif\n"
     ]
    },
    {
     "name": "stderr",
     "output_type": "stream",
     "text": [
      "100%|████████████████████████████████████████████████████████████████████████████████████| 9/9 [00:01<00:00,  5.07it/s]\n"
     ]
    }
   ],
   "source": [
    "for folder in folders:\n",
    "    compute_folder(folder, segmentation, n_tiles)"
   ]
  },
  {
   "cell_type": "code",
   "execution_count": null,
   "metadata": {},
   "outputs": [],
   "source": []
  }
 ],
 "metadata": {
  "kernelspec": {
   "display_name": "Python 3",
   "language": "python",
   "name": "python3"
  },
  "language_info": {
   "codemirror_mode": {
    "name": "ipython",
    "version": 3
   },
   "file_extension": ".py",
   "mimetype": "text/x-python",
   "name": "python",
   "nbconvert_exporter": "python",
   "pygments_lexer": "ipython3",
   "version": "3.7.4"
  }
 },
 "nbformat": 4,
 "nbformat_minor": 2
}
